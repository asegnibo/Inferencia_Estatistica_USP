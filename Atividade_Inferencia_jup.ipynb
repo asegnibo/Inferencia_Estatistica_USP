{
 "cells": [
  {
   "cell_type": "code",
   "execution_count": 1,
   "id": "4950dad7",
   "metadata": {},
   "outputs": [],
   "source": [
    "import math\n",
    "import numpy as np"
   ]
  },
  {
   "cell_type": "markdown",
   "id": "ce720f05",
   "metadata": {},
   "source": [
    "Extrair dados da amostra"
   ]
  },
  {
   "cell_type": "code",
   "execution_count": 2,
   "id": "35da874f",
   "metadata": {},
   "outputs": [
    {
     "name": "stdout",
     "output_type": "stream",
     "text": [
      "[3, 7, 4, 6, 7, 4, 1, 3, 5, 3, 5, 6, 6, 3, 3, 7, 5, 5, 5, 7, 3, 2, 7, 4, 7, 2, 6, 5, 8, 4, 5, 3, 2, 7, 3, 4, 2, 6, 3, 6, 3, 3, 4, 3, 2, 4, 4, 2, 3, 5, 8, 2, 6, 8, 6, 3, 5, 8, 8, 3, 3, 2, 3, 4, 7, 4, 3, 1, 4, 6, 3, 2, 3, 5, 3, 5, 5, 4, 4, 4]\n"
     ]
    }
   ],
   "source": [
    "file =r\"C:\\Users\\ashton.segnibo_capim\\Desktop\\Python\\AMOSTRA_3.txt\"\n",
    "\n",
    "with open(file) as amostra:\n",
    "    dados = amostra.read().split()\n",
    "\n",
    "for i in range(100):\n",
    "    try:\n",
    "        dados[i] = int(dados[i])\n",
    "    except IndexError:\n",
    "        break\n",
    "\n",
    "print(dados)"
   ]
  },
  {
   "cell_type": "markdown",
   "id": "e2d8bffc",
   "metadata": {},
   "source": [
    "Encontrar média amostral"
   ]
  },
  {
   "cell_type": "code",
   "execution_count": 3,
   "id": "f1ca9605",
   "metadata": {},
   "outputs": [
    {
     "name": "stdout",
     "output_type": "stream",
     "text": [
      "4.3625\n"
     ]
    }
   ],
   "source": [
    "u = sum(dados)/len(dados)\n",
    "print(u)"
   ]
  },
  {
   "cell_type": "markdown",
   "id": "800dc569",
   "metadata": {},
   "source": [
    "1. a) Encontrar EMV (Estimador de Máxima Verossimilhança), utilizando método iterativo - Bisseção"
   ]
  },
  {
   "cell_type": "code",
   "execution_count": 4,
   "id": "fd4155f0",
   "metadata": {},
   "outputs": [
    {
     "name": "stdout",
     "output_type": "stream",
     "text": [
      "a) O valor da estimativa de máxima verossimilhança é 4.30352\n",
      "\n"
     ]
    }
   ],
   "source": [
    "def encontrar_parametro(x):\n",
    "    return x + u*np.exp(-x) - u\n",
    "\n",
    "def bissecao(a,b):\n",
    "    c = np.mean(a+b)\n",
    "    while abs(a-b) > 0.00001:\n",
    "        if encontrar_parametro(a) * encontrar_parametro(b) < 0:\n",
    "            if encontrar_parametro(c) * encontrar_parametro(a) < 0:\n",
    "                b = c\n",
    "            elif encontrar_parametro(c) * encontrar_parametro(b) < 0:\n",
    "                a=c\n",
    "        c = (a+b)/2\n",
    "    return c\n",
    "\n",
    "x_0 = min(dados) #1\n",
    "x_1 = max(dados) #2\n",
    "EMV = round(bissecao(x_0,x_1),5)\n",
    "print(f'a) O valor da estimativa de máxima verossimilhança é {EMV}\\n')\n"
   ]
  },
  {
   "cell_type": "markdown",
   "id": "7bfb0e7f",
   "metadata": {},
   "source": [
    "1. b) Comparando a frequência observada com a frequencia esperada, a partir da distribuição"
   ]
  },
  {
   "cell_type": "code",
   "execution_count": 5,
   "id": "9df0ac74",
   "metadata": {},
   "outputs": [
    {
     "name": "stdout",
     "output_type": "stream",
     "text": [
      "b)\n",
      "    x     | Freq. Observada | Freq. Esperada  |   f(x)   \n",
      "    1     |        2        |      4.72       |  0.059   \n",
      "    2     |        9        |      10.15      |  0.127   \n",
      "    3     |       21        |      14.57      |  0.182   \n",
      "    4     |       14        |      15.67      |  0.196   \n",
      "    5     |       12        |      13.49      |  0.169   \n",
      "    6     |        9        |      9.67       |  0.121   \n",
      "    7     |        8        |      5.95       |  0.074   \n",
      "    8     |        5        |      3.20       |  0.040   \n"
     ]
    }
   ],
   "source": [
    "def zero_truncated_poisson(x,p):\n",
    "    return (math.e ** (-p)) * (p ** x) / (math.factorial(x) * (1 - math.e ** (-p)))\n",
    "\n",
    "freq_observada = {}\n",
    "freq_esperada = {}\n",
    "\n",
    "for valor in dados:\n",
    "    if valor in freq_observada:\n",
    "        freq_observada[valor] += 1\n",
    "    else:\n",
    "        freq_observada[valor] = 1\n",
    "\n",
    "freq_observada = dict(sorted(freq_observada.items()))\n",
    "print(f'b)\\n{'x':^10}|{'Freq. Observada':^17}|{'Freq. Esperada':^17}|{'f(x)':^10}')\n",
    "\n",
    "p= 4.30352 #EMV\n",
    "for x in freq_observada:\n",
    "    freq_esperada[x] = zero_truncated_poisson(x, p)\n",
    "    print(f'{x:^10}|{freq_observada[x]:^17}|{freq_esperada[x]*80:^17.2f}|{freq_esperada[x]:^10.3f}')"
   ]
  },
  {
   "cell_type": "markdown",
   "id": "35cc741d",
   "metadata": {},
   "source": [
    "1. c) Cálculo E(X) e Var(X), a partir dos dados observados"
   ]
  },
  {
   "cell_type": "code",
   "execution_count": 6,
   "id": "04eac25a",
   "metadata": {},
   "outputs": [
    {
     "name": "stdout",
     "output_type": "stream",
     "text": [
      "c) E(X) = 4.362504912602835 e Var(X) = 4.105182941603521\n"
     ]
    }
   ],
   "source": [
    "def esperanca(p):\n",
    "    return p/(1-np.exp(-p))\n",
    "\n",
    "def variancia(p):\n",
    "    return esperanca(p) * (1 + p*(1 - 1/(1-np.exp(-p))))\n",
    "\n",
    "p = 4.30352\n",
    "\n",
    "E = esperanca(4.30352)\n",
    "Var = variancia(4.30352)\n",
    "\n",
    "print(f'c) E(X) = {E} e Var(X) = {Var}')"
   ]
  }
 ],
 "metadata": {
  "kernelspec": {
   "display_name": "Python 3",
   "language": "python",
   "name": "python3"
  },
  "language_info": {
   "codemirror_mode": {
    "name": "ipython",
    "version": 3
   },
   "file_extension": ".py",
   "mimetype": "text/x-python",
   "name": "python",
   "nbconvert_exporter": "python",
   "pygments_lexer": "ipython3",
   "version": "3.13.3"
  }
 },
 "nbformat": 4,
 "nbformat_minor": 5
}
